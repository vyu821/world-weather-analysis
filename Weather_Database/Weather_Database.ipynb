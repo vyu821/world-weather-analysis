{
 "cells": [
  {
   "cell_type": "code",
   "execution_count": 8,
   "metadata": {},
   "outputs": [],
   "source": [
    "import pandas as pd\n",
    "import numpy as np\n",
    "from citipy import citipy\n",
    "import requests\n",
    "from config import weather_api_key"
   ]
  },
  {
   "cell_type": "code",
   "execution_count": 9,
   "metadata": {},
   "outputs": [],
   "source": [
    "# create a set of 2000 random lat and long combinations\n",
    "lats = np.random.uniform(low = -90, high = 90, size = 2000)\n",
    "lngs = np.random.uniform(low = -180, high = 180, size = 2000)\n",
    "lat_lngs = zip(lats, lngs)"
   ]
  },
  {
   "cell_type": "code",
   "execution_count": 10,
   "metadata": {},
   "outputs": [],
   "source": [
    "# add lats and longs to list\n",
    "coordinates = list(lat_lngs)"
   ]
  },
  {
   "cell_type": "code",
   "execution_count": 11,
   "metadata": {},
   "outputs": [
    {
     "data": {
      "text/plain": [
       "754"
      ]
     },
     "execution_count": 11,
     "metadata": {},
     "output_type": "execute_result"
    }
   ],
   "source": [
    "# city list\n",
    "cities = []\n",
    "\n",
    "# gets nearest city for each lat/long combo\n",
    "for coords in coordinates:\n",
    "    city = citipy.nearest_city(coords[0], coords[1]).city_name\n",
    "    \n",
    "    # if the city is unique, then add to list\n",
    "    if city not in cities:\n",
    "        cities.append(city)\n",
    "        \n",
    "# print count to confirm in sufficient\n",
    "len(cities)"
   ]
  },
  {
   "cell_type": "code",
   "execution_count": 12,
   "metadata": {},
   "outputs": [],
   "source": [
    "# basic url for openweather API\n",
    "url = \"http://api.openweathermap.org/data/2.5/weather?units=Imperial&APPID=\" + weather_api_key"
   ]
  },
  {
   "cell_type": "code",
   "execution_count": 13,
   "metadata": {},
   "outputs": [],
   "source": [
    "# city data list\n",
    "city_data = []\n",
    "\n",
    "# loop through cities\n",
    "for i, city in enumerate(cities):\n",
    "    \n",
    "    # url for each city\n",
    "    city_url = url + '&q=' + city.replace(' ', '+')\n",
    "    \n",
    "    # api request for each city\n",
    "    try:\n",
    "        # Parse the JSON and retrieve data.\n",
    "        city_weather = requests.get(city_url).json()\n",
    "        \n",
    "        # Parse out the needed data.\n",
    "        city_lat = city_weather[\"coord\"][\"lat\"]\n",
    "        city_lng = city_weather[\"coord\"][\"lon\"]\n",
    "        city_max_temp = city_weather[\"main\"][\"temp_max\"]\n",
    "        city_humidity = city_weather[\"main\"][\"humidity\"]\n",
    "        city_clouds = city_weather[\"clouds\"][\"all\"]\n",
    "        city_wind = city_weather[\"wind\"][\"speed\"]\n",
    "        city_country = city_weather[\"sys\"][\"country\"]\n",
    "        \n",
    "        # dictionary inside a list inside a dictionary\n",
    "        city_description = city_weather['weather'][0]['description']\n",
    "        \n",
    "        # Append the city information into city_data list.\n",
    "        city_data.append({'City': city.title(),\n",
    "                          'Country': city_country,\n",
    "                          'Lat': city_lat,\n",
    "                          'Lng': city_lng,\n",
    "                          'Max Temp': city_max_temp,\n",
    "                          'Humidity': city_humidity,\n",
    "                          'Cloudiness': city_clouds,\n",
    "                          'Wind Speed': city_wind,\n",
    "                          'Current Description': city_description})\n",
    "\n",
    "    # If an error is experienced, skip the city.\n",
    "    except:\n",
    "        pass"
   ]
  },
  {
   "cell_type": "code",
   "execution_count": 14,
   "metadata": {},
   "outputs": [
    {
     "data": {
      "text/plain": [
       "686"
      ]
     },
     "execution_count": 14,
     "metadata": {},
     "output_type": "execute_result"
    }
   ],
   "source": [
    "# check city_data\n",
    "len(city_data)"
   ]
  },
  {
   "cell_type": "code",
   "execution_count": 15,
   "metadata": {},
   "outputs": [
    {
     "data": {
      "text/html": [
       "<div>\n",
       "<style scoped>\n",
       "    .dataframe tbody tr th:only-of-type {\n",
       "        vertical-align: middle;\n",
       "    }\n",
       "\n",
       "    .dataframe tbody tr th {\n",
       "        vertical-align: top;\n",
       "    }\n",
       "\n",
       "    .dataframe thead th {\n",
       "        text-align: right;\n",
       "    }\n",
       "</style>\n",
       "<table border=\"1\" class=\"dataframe\">\n",
       "  <thead>\n",
       "    <tr style=\"text-align: right;\">\n",
       "      <th></th>\n",
       "      <th>City</th>\n",
       "      <th>Country</th>\n",
       "      <th>Lat</th>\n",
       "      <th>Lng</th>\n",
       "      <th>Max Temp</th>\n",
       "      <th>Humidity</th>\n",
       "      <th>Cloudiness</th>\n",
       "      <th>Wind Speed</th>\n",
       "      <th>Current Description</th>\n",
       "    </tr>\n",
       "  </thead>\n",
       "  <tbody>\n",
       "    <tr>\n",
       "      <th>0</th>\n",
       "      <td>Lattes</td>\n",
       "      <td>FR</td>\n",
       "      <td>43.57</td>\n",
       "      <td>3.90</td>\n",
       "      <td>69.80</td>\n",
       "      <td>64</td>\n",
       "      <td>79</td>\n",
       "      <td>3.36</td>\n",
       "      <td>broken clouds</td>\n",
       "    </tr>\n",
       "    <tr>\n",
       "      <th>1</th>\n",
       "      <td>Turtas</td>\n",
       "      <td>RU</td>\n",
       "      <td>58.94</td>\n",
       "      <td>69.13</td>\n",
       "      <td>56.16</td>\n",
       "      <td>87</td>\n",
       "      <td>1</td>\n",
       "      <td>3.09</td>\n",
       "      <td>clear sky</td>\n",
       "    </tr>\n",
       "    <tr>\n",
       "      <th>2</th>\n",
       "      <td>Nekrasovskoye</td>\n",
       "      <td>RU</td>\n",
       "      <td>57.68</td>\n",
       "      <td>40.37</td>\n",
       "      <td>41.00</td>\n",
       "      <td>100</td>\n",
       "      <td>0</td>\n",
       "      <td>3.96</td>\n",
       "      <td>clear sky</td>\n",
       "    </tr>\n",
       "    <tr>\n",
       "      <th>3</th>\n",
       "      <td>Rikitea</td>\n",
       "      <td>PF</td>\n",
       "      <td>-23.12</td>\n",
       "      <td>-134.97</td>\n",
       "      <td>71.85</td>\n",
       "      <td>81</td>\n",
       "      <td>38</td>\n",
       "      <td>8.19</td>\n",
       "      <td>scattered clouds</td>\n",
       "    </tr>\n",
       "    <tr>\n",
       "      <th>4</th>\n",
       "      <td>Purranque</td>\n",
       "      <td>CL</td>\n",
       "      <td>-40.92</td>\n",
       "      <td>-73.17</td>\n",
       "      <td>37.40</td>\n",
       "      <td>100</td>\n",
       "      <td>66</td>\n",
       "      <td>2.44</td>\n",
       "      <td>broken clouds</td>\n",
       "    </tr>\n",
       "    <tr>\n",
       "      <th>5</th>\n",
       "      <td>Kavieng</td>\n",
       "      <td>PG</td>\n",
       "      <td>-2.57</td>\n",
       "      <td>150.80</td>\n",
       "      <td>83.89</td>\n",
       "      <td>72</td>\n",
       "      <td>34</td>\n",
       "      <td>7.92</td>\n",
       "      <td>light rain</td>\n",
       "    </tr>\n",
       "    <tr>\n",
       "      <th>6</th>\n",
       "      <td>Ushuaia</td>\n",
       "      <td>AR</td>\n",
       "      <td>-54.80</td>\n",
       "      <td>-68.30</td>\n",
       "      <td>32.00</td>\n",
       "      <td>90</td>\n",
       "      <td>40</td>\n",
       "      <td>8.05</td>\n",
       "      <td>scattered clouds</td>\n",
       "    </tr>\n",
       "    <tr>\n",
       "      <th>7</th>\n",
       "      <td>Pevek</td>\n",
       "      <td>RU</td>\n",
       "      <td>69.70</td>\n",
       "      <td>170.31</td>\n",
       "      <td>44.06</td>\n",
       "      <td>71</td>\n",
       "      <td>53</td>\n",
       "      <td>12.30</td>\n",
       "      <td>broken clouds</td>\n",
       "    </tr>\n",
       "    <tr>\n",
       "      <th>8</th>\n",
       "      <td>Qaanaaq</td>\n",
       "      <td>GL</td>\n",
       "      <td>77.48</td>\n",
       "      <td>-69.36</td>\n",
       "      <td>44.04</td>\n",
       "      <td>81</td>\n",
       "      <td>100</td>\n",
       "      <td>5.23</td>\n",
       "      <td>light rain</td>\n",
       "    </tr>\n",
       "    <tr>\n",
       "      <th>9</th>\n",
       "      <td>Vaini</td>\n",
       "      <td>TO</td>\n",
       "      <td>-21.20</td>\n",
       "      <td>-175.20</td>\n",
       "      <td>73.40</td>\n",
       "      <td>100</td>\n",
       "      <td>90</td>\n",
       "      <td>12.75</td>\n",
       "      <td>moderate rain</td>\n",
       "    </tr>\n",
       "  </tbody>\n",
       "</table>\n",
       "</div>"
      ],
      "text/plain": [
       "            City Country    Lat     Lng  Max Temp  Humidity  Cloudiness  \\\n",
       "0         Lattes      FR  43.57    3.90     69.80        64          79   \n",
       "1         Turtas      RU  58.94   69.13     56.16        87           1   \n",
       "2  Nekrasovskoye      RU  57.68   40.37     41.00       100           0   \n",
       "3        Rikitea      PF -23.12 -134.97     71.85        81          38   \n",
       "4      Purranque      CL -40.92  -73.17     37.40       100          66   \n",
       "5        Kavieng      PG  -2.57  150.80     83.89        72          34   \n",
       "6        Ushuaia      AR -54.80  -68.30     32.00        90          40   \n",
       "7          Pevek      RU  69.70  170.31     44.06        71          53   \n",
       "8        Qaanaaq      GL  77.48  -69.36     44.04        81         100   \n",
       "9          Vaini      TO -21.20 -175.20     73.40       100          90   \n",
       "\n",
       "   Wind Speed Current Description  \n",
       "0        3.36       broken clouds  \n",
       "1        3.09           clear sky  \n",
       "2        3.96           clear sky  \n",
       "3        8.19    scattered clouds  \n",
       "4        2.44       broken clouds  \n",
       "5        7.92          light rain  \n",
       "6        8.05    scattered clouds  \n",
       "7       12.30       broken clouds  \n",
       "8        5.23          light rain  \n",
       "9       12.75       moderate rain  "
      ]
     },
     "execution_count": 15,
     "metadata": {},
     "output_type": "execute_result"
    }
   ],
   "source": [
    "city_data_df = pd.DataFrame(city_data)\n",
    "city_data_df.head(10)"
   ]
  },
  {
   "cell_type": "code",
   "execution_count": 16,
   "metadata": {},
   "outputs": [],
   "source": [
    "# output file\n",
    "output = 'WeatherPy_Database.csv'\n",
    "\n",
    "# export to csv\n",
    "city_data_df.to_csv(output, index_label = 'City_ID')"
   ]
  },
  {
   "cell_type": "code",
   "execution_count": null,
   "metadata": {},
   "outputs": [],
   "source": []
  }
 ],
 "metadata": {
  "kernelspec": {
   "display_name": "PythonData",
   "language": "python",
   "name": "pythondata"
  },
  "language_info": {
   "codemirror_mode": {
    "name": "ipython",
    "version": 3
   },
   "file_extension": ".py",
   "mimetype": "text/x-python",
   "name": "python",
   "nbconvert_exporter": "python",
   "pygments_lexer": "ipython3",
   "version": "3.7.7"
  }
 },
 "nbformat": 4,
 "nbformat_minor": 4
}
